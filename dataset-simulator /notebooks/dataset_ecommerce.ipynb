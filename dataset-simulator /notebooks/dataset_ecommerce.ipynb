{
  "nbformat": 4,
  "nbformat_minor": 0, 
  "metadata": {
    "colab": {
      "provenance": []
    },
    "kernelspec": {
      "name": "python3",
      "display_name": "Python 3"
    },
    "language_info": {
      "name": "python"
    }
  },
  "cells": [
    {
      "cell_type": "code",
      "execution_count": 1,
      "metadata": {
        "id": "K0dkMUXSziZT"
      },
      "outputs": [],
      "source": [
        "import pandas as pd\n",
        "import random\n",
        "import hashlib\n",
        "import time\n",
        "from datetime import datetime, timedelta"
      ]
    },
    {
      "cell_type": "code",
      "source": [
        "# Initial configuration data\n",
        "cities = ['Bogotá', 'Medellín', 'Cali', 'Bucaramanga', 'Barranquilla']\n",
        "products = ['Dell Laptop', 'HP Laptop', 'Lenovo Laptop', 'PlayStation', 'Xbox', 'Nintendo Switch']\n",
        "purchase_statuses = ['COMPLETED', 'FAILED_CHECKOUT', 'FAILED_API_RESPONSE', 'INSUFFICIENT_FUNDS', 'USER_ERROR', 'FRAUD', 'COMPLETED']\n",
        "sources = ['Facebook', 'Instagram', 'Organic', 'Twitter', 'Influencer_1', 'Influencer_2', 'Influencer_3', 'Influencer_4']\n",
        "payment_methods = ['Credit Card', 'PSE', 'Cash', 'Nequi', 'Daviplata']"
      ],
      "metadata": {
        "id": "zWNGObgvzr20"
      },
      "execution_count": 2,
      "outputs": []
    },
    {
      "cell_type": "code",
      "source": [
        "# Dictionary for city coordinates\n",
        "city_coords = {\n",
        "    'Bogotá': [(4.6516, -74.1263), (4.6620, -74.1347), (4.6476, -74.1019)],\n",
        "    'Medellín': [(6.1633, -75.6053), (6.1778, -75.5914), (6.1981, -75.5734)],\n",
        "    'Cali': [(3.4288, -76.5375), (3.4149, -76.5404), (3.4164, -76.5475)],\n",
        "    'Bucaramanga': [(7.0999, -73.1073), (7.0724, -73.1053)],\n",
        "    'Barranquilla': [(11.0142, -74.8275), (11.0040, -74.8355), (10.9906, -74.7888)]\n",
        "}"
      ],
      "metadata": {
        "id": "LPKT8bVCz8JJ"
      },
      "execution_count": 5,
      "outputs": []
    },
    {
      "cell_type": "code",
      "source": [
        "# Function to determine payment method based on the source\n",
        "def get_payment_method(source, purchase_statuses, online_payments, in_store_payments):\n",
        "    if source == 'Organic':\n",
        "        payment = random.choice(in_store_payments)\n",
        "        status = 'COMPLETED'\n",
        "        order_type = 'IN_STORE'\n",
        "    else:\n",
        "        payment = random.choice(online_payments)\n",
        "        status = random.choice(purchase_statuses)\n",
        "        order_type = 'ONLINE'\n",
        "    return payment, status, order_type"
      ],
      "metadata": {
        "id": "_IC-qJ15zxgJ"
      },
      "execution_count": 3,
      "outputs": []
    },
    {
      "cell_type": "code",
      "source": [
        "# Function to get coordinates based on the city\n",
        "def get_coordinates(city, city_coords):\n",
        "    return random.choice(city_coords[city])"
      ],
      "metadata": {
        "id": "IydspTWLz4aZ"
      },
      "execution_count": 4,
      "outputs": []
    },
    {
      "cell_type": "code",
      "source": [
        "# Function to generate purchase data\n",
        "def generate_purchase_data(num_records):\n",
        "    data = []\n",
        "    for x in range(num_records):\n",
        "        date = (datetime.now() - timedelta(days=random.randint(0, 30))).strftime(\"%Y-%m-%d %H:%M:%S\")\n",
        "        product = random.choice(products)\n",
        "        pricing = round(random.uniform(200, 2000), 2)\n",
        "        commission = round(random.uniform(10, 200), 2)\n",
        "        city = random.choice(cities)\n",
        "        source = random.choice(sources)\n",
        "        payment, status, order_type = get_payment_method(source, purchase_statuses, payment_methods, payment_methods)\n",
        "        coords = get_coordinates(city, city_coords)\n",
        "\n",
        "        purchase = {\n",
        "            'purchase_ID': hashlib.sha256(f\"{x} {product} {pricing} {commission} {date} {source} {status}\".encode('utf-8')).hexdigest()[:10],\n",
        "            'Product_name': product,\n",
        "            'Pricing': str(pricing),\n",
        "            'Commission': str(commission),\n",
        "            'Revenue': str(round(pricing * commission, 2)),\n",
        "            'Payment_Method': payment,\n",
        "            'Status': status,\n",
        "            'Order_Type': order_type,\n",
        "            'City': city,\n",
        "            'Latitude': str(coords[0]),\n",
        "            'Longitude': str(coords[1]),\n",
        "            'Source': source,\n",
        "            'Brand': 'Placeholder Brand',  # Replace with real brand logic if needed\n",
        "            'Category': 'Placeholder Category',  # Replace with real category logic if needed\n",
        "            'Created_at': date\n",
        "        }\n",
        "        data.append(purchase)\n",
        "        time.sleep(random.uniform(0.1, 0.5))  # Simulating processing time\n",
        "\n",
        "    return data"
      ],
      "metadata": {
        "id": "Dww6d6Crz_9p"
      },
      "execution_count": 6,
      "outputs": []
    },
    {
      "cell_type": "code",
      "source": [
        "# Generate 100 purchase records\n",
        "purchase_data = generate_purchase_data(100)"
      ],
      "metadata": {
        "id": "V-mGZrWA0DJR"
      },
      "execution_count": 7,
      "outputs": []
    },
    {
      "cell_type": "code",
      "source": [
        "# Convert the data to a Pandas DataFrame\n",
        "df_purchases = pd.DataFrame(purchase_data)"
      ],
      "metadata": {
        "id": "jgCE2EN90FVg"
      },
      "execution_count": 8,
      "outputs": []
    },
    {
      "cell_type": "code",
      "source": [
        "print(df_purchases.head())  # Display the first few records"
      ],
      "metadata": {
        "colab": {
          "base_uri": "https://localhost:8080/"
        },
        "id": "NSVXls0C0QcI",
        "outputId": "5adb76db-2add-4571-d552-b5d6bcf48649"
      },
      "execution_count": 9,
      "outputs": [
        {
          "output_type": "stream",
          "name": "stdout",
          "text": [
            "  purchase_ID     Product_name  Pricing Commission    Revenue Payment_Method  \\\n",
            "0  234827fbeb      Dell Laptop  1307.85      57.19   74795.94          Nequi   \n",
            "1  7840009738      Dell Laptop  1627.49     173.74  282760.11           Cash   \n",
            "2  4d40558e26  Nintendo Switch   377.38     167.88   63354.55    Credit Card   \n",
            "3  1fc4c5b6d6      Dell Laptop   469.19     185.79   87170.81      Daviplata   \n",
            "4  b2c48859e8    Lenovo Laptop  1891.72     115.37  218247.74            PSE   \n",
            "\n",
            "               Status Order_Type          City Latitude Longitude  \\\n",
            "0          USER_ERROR     ONLINE          Cali   3.4288  -76.5375   \n",
            "1  INSUFFICIENT_FUNDS     ONLINE      Medellín   6.1778  -75.5914   \n",
            "2     FAILED_CHECKOUT     ONLINE      Medellín   6.1981  -75.5734   \n",
            "3     FAILED_CHECKOUT     ONLINE   Bucaramanga   7.0724  -73.1053   \n",
            "4          USER_ERROR     ONLINE  Barranquilla   11.004  -74.8355   \n",
            "\n",
            "         Source              Brand              Category           Created_at  \n",
            "0  Influencer_3  Placeholder Brand  Placeholder Category  2023-12-19 17:55:15  \n",
            "1     Instagram  Placeholder Brand  Placeholder Category  2023-12-21 17:55:16  \n",
            "2       Twitter  Placeholder Brand  Placeholder Category  2023-12-27 17:55:16  \n",
            "3       Twitter  Placeholder Brand  Placeholder Category  2024-01-12 17:55:16  \n",
            "4  Influencer_3  Placeholder Brand  Placeholder Category  2023-12-16 17:55:16  \n"
          ]
        }
      ]
    },
    {
      "cell_type": "code",
      "source": [
        "df_purchases.to_csv('purchase_data.csv', index=False)"
      ],
      "metadata": {
        "id": "rAWwElTX0RWC"
      },
      "execution_count": 10,
      "outputs": []
    },
    {
      "cell_type": "code",
      "source": [],
      "metadata": {
        "id": "bulkJyhP5hru"
      },
      "execution_count": null,
      "outputs": []
    }
  ]
}
